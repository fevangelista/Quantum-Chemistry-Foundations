{
 "cells": [
  {
   "cell_type": "markdown",
   "id": "b4670a80-4c38-4e20-afba-99764bbe375e",
   "metadata": {},
   "source": [
    "<center>\n",
    "<img src=\"../Graphics/logo.png\" width=\"600\" \\>\n",
    "</center>\n",
    "\n",
    "# 03 - Advanced Hückel Theory: Properties\n",
    "\n",
    "This tutorial is part of the [Quantum Chemistry Foundations](https://github.com/fevangelista/Quantum-Chemistry-Foundations) series.\n",
    "\n",
    "Author: Francesco A. Evangelista\n",
    "\n",
    "Support: [![NSF-1928366](https://img.shields.io/badge/NSF-2312105-blue.svg)](https://nsf.gov/awardsearch/showAward?AWD_ID=2312105)\n",
    "\n",
    "---\n",
    "\n",
    "In this tutorial, you will package the Hückel method into a class and learn how to perform a population analysis.\n",
    "\n",
    "Let's begin by importing `numpy` and other packages we will need later."
   ]
  },
  {
   "cell_type": "code",
   "execution_count": 46,
   "id": "89d953b5",
   "metadata": {},
   "outputs": [],
   "source": [
    "import numpy as np\n",
    "import scipy\n",
    "import matplotlib.pyplot as plt\n",
    "\n",
    "# display output of plotting commands inline \n",
    "%matplotlib inline \n",
    "\n",
    "# generate high-resolution matplotlib figures\n",
    "%config InlineBackend.figure_format='retina'"
   ]
  },
  {
   "cell_type": "markdown",
   "id": "6154af92",
   "metadata": {},
   "source": [
    "## Packaging the Hückel method into a class\n",
    "\n",
    "Our first goal is to place all the functions we need for running Hückel computations in one class. In this way, we will be able to perform Hückel computations easily with a simple command like this:\n",
    "```python\n",
    "huckel = Huckel(filename=\"ethylene.xyz\", charge=0)\n",
    "huckel.run()\n",
    "```"
   ]
  },
  {
   "cell_type": "markdown",
   "id": "d720ab1e",
   "metadata": {},
   "source": [
    "To create this class, we will start from the class structure. This class will require the name of the xyz file with the structure and the charge of the molecule. We also define input variables with default values for the distance cutoff and Hückel parameters."
   ]
  },
  {
   "cell_type": "code",
   "execution_count": 47,
   "id": "861832d9",
   "metadata": {},
   "outputs": [
    {
     "name": "stdout",
     "output_type": "stream",
     "text": [
      "Running Hückel method on file ethylene.xyz\n"
     ]
    }
   ],
   "source": [
    "class Huckel:\n",
    "    def __init__(self, filename, charge, r_cutoff=1.5, alpha=-11.4, beta=-0.8):\n",
    "        self.filename = filename\n",
    "        self.charge = charge\n",
    "        self.r_cutoff = r_cutoff\n",
    "        self.alpha = alpha\n",
    "        self.beta = beta\n",
    "\n",
    "    def run(self):\n",
    "        print(f'Running Hückel method on file {self.filename}')\n",
    "\n",
    "huckel = Huckel(filename='ethylene.xyz', charge=0)\n",
    "huckel.run()"
   ]
  },
  {
   "cell_type": "markdown",
   "id": "a73bb819",
   "metadata": {},
   "source": [
    "We can now add the functions we wrote in the previous tutorial and adapt them to work with the class. In creating this class, we can make the parameters of the computation class variables. Functions like:\n",
    "```python\n",
    "def read_geometry(filename):\n",
    "    ...\n",
    "    with open(filename, \"r\") as f:\n",
    "    ...     \n",
    "```\n",
    "are converted to class functions with signature:\n",
    "```python\n",
    "def read_geometry(self):\n",
    "    ...\n",
    "    with open(self.filename, \"r\") as f:\n",
    "    ...        \n",
    "```\n",
    "\n",
    "We also have to remember to call these functions with `self.` prefixed to the function name.\n",
    "\n",
    "Note that the `build_huckel_hamiltonian` function has been improved a bit. We now use the function `np.fill_diagonal` to fill the diagonal of the Hamiltonian matrix with the parameter $\\alpha$, and we now loop over only half of the atom pairs since the Hamiltonian is a symmetric matrix.\n",
    "\n",
    "Our Hückel class reads as follows:"
   ]
  },
  {
   "cell_type": "code",
   "execution_count": 49,
   "id": "9e1e4d1c",
   "metadata": {},
   "outputs": [],
   "source": [
    "class Huckel:\n",
    "    def __init__(self, filename, charge, r_cutoff=1.5, alpha=-11.4, beta=-0.8):\n",
    "        self.filename = filename\n",
    "        self.charge = charge\n",
    "        self.r_cutoff = r_cutoff\n",
    "        self.alpha = alpha\n",
    "        self.beta = beta\n",
    "\n",
    "    def run(self):\n",
    "        \"\"\"Performs a Hückel method computation.\"\"\"\n",
    "        print(f'Running Hückel method on file {self.filename}')\n",
    "\n",
    "        self.atoms = self.read_geometry()\n",
    "        print(f'Found {len(self.atoms)} carbon atoms')\n",
    "\n",
    "        print('Building Hückel Hamiltonian')\n",
    "        self.H = self.build_huckel_hamiltonian()\n",
    "\n",
    "        print('Solving eigenvalue problem')\n",
    "        self.solve_eigenvalues(self.H)\n",
    "\n",
    "    def read_geometry(self):\n",
    "        \"\"\"This function reads the geometry of a molecule from an XYZ file\n",
    "        and stores the atom symbol and coordinates of the carbon atoms in a list of tuples.\n",
    "        \"\"\"\n",
    "        atoms = []\n",
    "        with open(self.filename, \"r\") as f:\n",
    "            lines = f.readlines() # read all lines into a list\n",
    "            for line in lines[2:]: # skip the first two lines\n",
    "                parts = line.split() # split the line into parts\n",
    "                symbol = parts[0]\n",
    "                if symbol == \"C\": # only keep carbon atoms\n",
    "                    xyz = np.array([float(x) for x in parts[1:4]])\n",
    "                    atoms.append((symbol, xyz))\n",
    "        return atoms\n",
    "\n",
    "    def build_huckel_hamiltonian(self):\n",
    "        \"\"\"This function builds the Hückel Hamiltonian matrix given a list of atoms.\"\"\"\n",
    "        N = len(self.atoms) # find the number of atoms from the length of the atoms list\n",
    "        H = np.zeros((N, N))\n",
    "        np.fill_diagonal(H, self.alpha)\n",
    "        for i in range(N):\n",
    "            # only loop over half of the pairs, excluding the diagonal\n",
    "            for j in range(i + 1, N):\n",
    "                r_i = self.atoms[i][1]\n",
    "                r_j = self.atoms[j][1]\n",
    "                distance = np.linalg.norm(r_i - r_j)\n",
    "                if distance < self.r_cutoff:\n",
    "                    H[i, j] = H[j, i] = self.beta\n",
    "        return H\n",
    "\n",
    "    def solve_eigenvalues(self, H):\n",
    "        \"\"\"This function solves the eigenvalue problem H C = ε C.\"\"\"\n",
    "        self.ε, self.C = np.linalg.eigh(H)\n",
    "        print(f'Eigenvalues: {self.ε} eV')\n",
    "\n",
    "    def plot(self, coefficients, label=None, size=4):\n",
    "        \"\"\"\n",
    "        A function to plot molecular orbitals with given coordinates and coefficients.\n",
    "        The probability of finding an electron is proportional to the area of the circles.\n",
    "        \"\"\"\n",
    "        coordinates = [(atom[1][0], atom[1][1]) for atom in self.atoms]  # Extract coordinates\n",
    "\n",
    "        # Ensure coefficients is 2D (matrix-like) so we can plot single or multiple orbitals\n",
    "        if np.ndim(coefficients) == 1:\n",
    "            coefficients = coefficients[:, np.newaxis]\n",
    "\n",
    "        num_plots = coefficients.shape[1]  # Number of columns determines the number of plots\n",
    "\n",
    "        # Compute the grid size to organize plots (e.g., 3x2 for 6 plots)\n",
    "        n_cols = 2 # 1 #3 #int(np.ceil(np.sqrt(num_plots)))  # Columns in the grid\n",
    "        n_rows = int(np.ceil(num_plots / n_cols))  # Rows in the grid\n",
    "\n",
    "        # Create a grid of subplots\n",
    "        fig, axes = plt.subplots(n_rows, n_cols, figsize=(size * n_cols, size * n_rows))\n",
    "        axes = np.ravel(axes)  # Flatten the axes array for easy iteration\n",
    "\n",
    "        # Plot each column of coefficients in its own subplot\n",
    "        for i in range(num_plots):\n",
    "            ax = axes[i]\n",
    "            ax.set_aspect('equal', 'box')\n",
    "\n",
    "            # Set plot limits with padding\n",
    "            x_vals, y_vals = zip(*coordinates)\n",
    "            ax.set_xlim(min(x_vals) - 1, max(x_vals) + 1)\n",
    "            ax.set_ylim(min(y_vals) - 1, max(y_vals) + 1)\n",
    "\n",
    "            # Plot molecular orbitals and atoms\n",
    "            for (x, y), c in zip(coordinates, coefficients[:, i]):\n",
    "                radius = np.abs(c) * 0.9\n",
    "                color = 'orange' if c > 0 else 'blue'\n",
    "                mo = plt.Circle((x, y), radius, color=color, alpha=0.5)\n",
    "                ax.add_patch(mo)\n",
    "                atom = plt.Circle((x, y), 0.05, color='black')\n",
    "                ax.add_patch(atom)\n",
    "\n",
    "            # Set smaller font size for axes labels\n",
    "            ax.tick_params(axis='both', which='major', labelsize=8)\n",
    "            if label:\n",
    "                if num_plots > 1:\n",
    "                    ax.set_title(f\"{label} - {i+1}\", fontsize=8)\n",
    "                else:\n",
    "                    ax.set_title(f\"{label}\", fontsize=8)\n",
    "\n",
    "        # Hide any unused subplots if num_plots < n_rows * n_cols\n",
    "        for j in range(num_plots, n_rows * n_cols):\n",
    "            fig.delaxes(axes[j])\n",
    "\n",
    "        # Adjust layout to avoid overlaps\n",
    "        plt.tight_layout()\n",
    "        plt.show()"
   ]
  },
  {
   "cell_type": "markdown",
   "id": "dd2170c3",
   "metadata": {},
   "source": [
    "Let's test it out on the ethylene molecule:"
   ]
  },
  {
   "cell_type": "code",
   "execution_count": 50,
   "id": "b55aa3db",
   "metadata": {},
   "outputs": [
    {
     "name": "stdout",
     "output_type": "stream",
     "text": [
      "Running Hückel method on file ethylene.xyz\n",
      "Found 2 carbon atoms\n",
      "Building Hückel Hamiltonian\n",
      "Solving eigenvalue problem\n",
      "Eigenvalues: [-12.2 -10.6] eV\n"
     ]
    },
    {
     "data": {
      "image/png": "[encoded data removed]",
      "text/plain": [
       "<Figure size 400x200 with 2 Axes>"
      ]
     },
     "metadata": {
      "image/png": {
       "height": 154,
       "width": 400
      }
     },
     "output_type": "display_data"
    }
   ],
   "source": [
    "# Create an instance of the Huckel class and run the computation\n",
    "huckel = Huckel(filename='ethylene.xyz', charge=0)\n",
    "huckel.run()\n",
    "\n",
    "# Plot the molecular orbitals using the plot method\n",
    "huckel.plot(huckel.C, label='MO',size=2)"
   ]
  },
  {
   "cell_type": "markdown",
   "id": "8f0f71c9",
   "metadata": {},
   "source": [
    "## Orbital occupation and total energy \n",
    "\n",
    "Once we have obtained the energy levels, we need to determine the number of electrons that occupy each orbital.\n",
    "We will store this information in the occupation number vector:\n",
    "$$\n",
    "\\mathbf{n} = (n_1, n_2, \\ldots, n_N)\n",
    "$$\n",
    "where the $i$-th element $n_i \\in \\{ 0, 1, 2 \\}$ is the number of electrons that occupy a given energy level $\\varepsilon_i$.\n",
    "\n",
    "Due to the Pauli exclusion principle (more on this in later tutorials), we can place at most two electrons in each orbital, one with spin up and one with spin down.\n",
    "In occupying the orbitals, we will follow a simplified version of the **Aufbau** principle: we will fill the orbitals starting from the lowest energy ones with two electrons until we run out of electrons, or if we are left with only one electron, we will occupy the next available orbital with one electron.\n",
    "\n",
    "<div class=\"alert alert-block alert-danger\">\n",
    "<b>WARNING</b>: It is important to be aware that the way we have computed the occupation number may not correctly handle certain situations with degenerate levels, like the ones shown below where it is possible to have either low or high spin states.\n",
    "<center><img src=\"img/occupation.png\" width=\"525\" /></center>\n",
    "</div>\n",
    "\n",
    "From the occupation numbers, we can compute the total energy ($E$), which we obtain by summing the orbital energies multiplied by the corresponding occupation:\n",
    "$$\n",
    "E = \\sum_{i=1}^{N} \\varepsilon_i n_i = \\mathrm{diag}(\\boldsymbol \\varepsilon) \\cdot \\mathbf{n}\n",
    "$$\n",
    "On the right-hand side of this equation, we expressed $E$ as the dot product between the diagonal of the $\\boldsymbol \\varepsilon$ matrix, $\\mathrm{diag}(\\boldsymbol \\varepsilon)$, and the occupation number vector.\n",
    "\n",
    "We will start by adding a function to the class `Huckel` (`find_occupation`) that computes the occupation number vector.\n",
    "Here, we define the function `compute_occupation` and update the `run` function to call it. Then we inject these functions into the class definition with the lines:\n",
    "```python\n",
    "Huckel.run = run\n",
    "Huckel.compute_occupation = compute_occupation\n",
    "```\n",
    "This step redefines the function `Huckel.run` and creates the function `Huckel.compute_occupation` in the class. This technique lets us change parts of the class Hückel without repeating the part of the code that has not changed."
   ]
  },
  {
   "cell_type": "code",
   "execution_count": 51,
   "id": "0088ee9d",
   "metadata": {},
   "outputs": [
    {
     "name": "stdout",
     "output_type": "stream",
     "text": [
      "Running Huckel method on file ethylene.xyz\n",
      "Found 2 carbon atoms\n",
      "Building Hückel Hamiltonian\n",
      "Solving eigenvalue problem\n",
      "Eigenvalues: [-12.2 -10.6] eV\n",
      "Number of electrons: 2\n",
      "Number of doubly occupied states: 1\n",
      "Number of singly occupied states: 0\n"
     ]
    }
   ],
   "source": [
    "def compute_occupation(self):\n",
    "    \"\"\"This function finds the occupation of the molecular orbitals.\"\"\"\n",
    "    \n",
    "    self.nel = len(self.ε) - self.charge\n",
    "    print(f'Number of electrons: {self.nel}')\n",
    "\n",
    "    # find the occupied states\n",
    "    ndocc = self.nel // 2\n",
    "    nsocc = self.nel % 2\n",
    "    print(f'Number of doubly occupied states: {ndocc}')\n",
    "    print(f'Number of singly occupied states: {nsocc}')\n",
    "    self.occupation = np.zeros_like(self.ε)\n",
    "    self.occupation[:ndocc] = 2\n",
    "    if nsocc:\n",
    "        self.occupation[ndocc] = 1\n",
    "\n",
    "def run(self):\n",
    "    \"\"\"Performs a Hückel method computation.\"\"\"\n",
    "    print(f'Running Huckel method on file {self.filename}')\n",
    "\n",
    "    self.atoms = self.read_geometry()\n",
    "    print(f'Found {len(self.atoms)} carbon atoms')\n",
    "\n",
    "    print('Building Hückel Hamiltonian')\n",
    "    self.H = self.build_huckel_hamiltonian()\n",
    "\n",
    "    print('Solving eigenvalue problem')\n",
    "    self.solve_eigenvalues(self.H)\n",
    "\n",
    "    self.compute_occupation()\n",
    "    \n",
    "# add/replace methods in the Huckel class\n",
    "Huckel.run = run\n",
    "Huckel.compute_occupation = compute_occupation\n",
    "\n",
    "huckel = Huckel(filename='ethylene.xyz', charge=0)\n",
    "huckel.run()"
   ]
  },
  {
   "cell_type": "markdown",
   "id": "a4a8ddcb",
   "metadata": {},
   "source": [
    "Next, we will add a function to compute the total energy. Here, we define `compute_energy` and inject it into the Hückel class. We also update the `run` method"
   ]
  },
  {
   "cell_type": "code",
   "execution_count": 52,
   "id": "5a4a6f5d",
   "metadata": {},
   "outputs": [],
   "source": [
    "def compute_energy(self):\n",
    "    \"\"\"This function computes the energy of the molecule.\"\"\"\n",
    "    self.energy = np.dot(self.ε, self.occupation)\n",
    "    print(f'Total energy: {self.energy:.3f} eV')\n",
    "\n",
    "def run(self):\n",
    "    print(f'Running Hückel method on file {self.filename}')\n",
    "\n",
    "    self.atoms = self.read_geometry()\n",
    "    print(f'Found {len(self.atoms)} carbon atoms')\n",
    "\n",
    "    print('Building Hückel Hamiltonian')\n",
    "    H = self.build_huckel_hamiltonian()\n",
    "\n",
    "    print('Solving eigenvalue problem')\n",
    "    self.solve_eigenvalues(H)\n",
    "\n",
    "    self.compute_occupation()\n",
    "\n",
    "    self.compute_energy()\n",
    "\n",
    "# add/replace methods in the Huckel class\n",
    "Huckel.run = run\n",
    "Huckel.compute_energy = compute_energy"
   ]
  },
  {
   "cell_type": "markdown",
   "id": "6613a74d-ecbe-4fac-85d4-ef75ffee15f9",
   "metadata": {},
   "source": [
    "Now we have a fully functional version of the Hückel class. Let's apply it to a classic problem: estimating the delocalization energy of conjugated hydrocarbons."
   ]
  },
  {
   "cell_type": "markdown",
   "id": "23d7ae5c-4d5a-4039-a32e-9ae218b7e56b",
   "metadata": {},
   "source": [
    "## Example: Stabilization energy of benzene 🧪\n",
    "\n",
    "In hydrocarbons with alternating single and double bonds, the molecular orbitals can delocalize, decreasing the energy.\n",
    "We can quantify this effect via the delocalization energy, defined as the difference between the energy of the localized π orbitals (computed from the energy of ethylene) minus the Hückel energy of the molecule under consideration\n",
    "$$\n",
    "E_\\mathrm{deloc.} = E(\\mathrm{C_2H_4}) \\times \\text{number of π bonds} - \\sum_i n_i \\varepsilon_i\n",
    "$$\n",
    "\n",
    "We will estimate this energy for two molecules, hexatriene and benzene\n",
    "\n",
    "<center><img src=\"img/example_1.png\" width=\"400\" /></center>\n",
    "\n",
    "To begin, we run a computation on ethylene and store the energy in the variable `ethylene_energy`:"
   ]
  },
  {
   "cell_type": "code",
   "execution_count": 53,
   "id": "42687916",
   "metadata": {},
   "outputs": [
    {
     "name": "stdout",
     "output_type": "stream",
     "text": [
      "Running Hückel method on file ethylene.xyz\n",
      "Found 2 carbon atoms\n",
      "Building Hückel Hamiltonian\n",
      "Solving eigenvalue problem\n",
      "Eigenvalues: [-12.2 -10.6] eV\n",
      "Number of electrons: 2\n",
      "Number of doubly occupied states: 1\n",
      "Number of singly occupied states: 0\n",
      "Total energy: -24.400 eV\n"
     ]
    }
   ],
   "source": [
    "ethylene = Huckel(filename='ethylene.xyz', charge=0)\n",
    "ethylene.run()\n",
    "energy_ethylene = ethylene.energy"
   ]
  },
  {
   "cell_type": "markdown",
   "id": "51e64b14",
   "metadata": {},
   "source": [
    "Next, we compute the energy of hexatriene and benzene:"
   ]
  },
  {
   "cell_type": "code",
   "execution_count": 54,
   "id": "226b86ad",
   "metadata": {},
   "outputs": [
    {
     "name": "stdout",
     "output_type": "stream",
     "text": [
      "Running Hückel method on file hexatriene.xyz\n",
      "Found 6 carbon atoms\n",
      "Building Hückel Hamiltonian\n",
      "Solving eigenvalue problem\n",
      "Eigenvalues: [-12.84155019 -12.39758368 -11.75603349 -11.04396651 -10.40241632\n",
      "  -9.95844981] eV\n",
      "Number of electrons: 6\n",
      "Number of doubly occupied states: 3\n",
      "Number of singly occupied states: 0\n",
      "Total energy: -73.990 eV\n"
     ]
    }
   ],
   "source": [
    "hexatriene = Huckel(filename='hexatriene.xyz', charge=0)\n",
    "hexatriene.run()\n",
    "energy_hexatriene = hexatriene.energy"
   ]
  },
  {
   "cell_type": "code",
   "execution_count": 55,
   "id": "c84d2746",
   "metadata": {},
   "outputs": [
    {
     "name": "stdout",
     "output_type": "stream",
     "text": [
      "Running Hückel method on file benzene.xyz\n",
      "Found 6 carbon atoms\n",
      "Building Hückel Hamiltonian\n",
      "Solving eigenvalue problem\n",
      "Eigenvalues: [-13.  -12.2 -12.2 -10.6 -10.6  -9.8] eV\n",
      "Number of electrons: 6\n",
      "Number of doubly occupied states: 3\n",
      "Number of singly occupied states: 0\n",
      "Total energy: -74.800 eV\n"
     ]
    }
   ],
   "source": [
    "benzene = Huckel(filename='benzene.xyz', charge=0)\n",
    "benzene.run()\n",
    "energy_benzene = benzene.energy"
   ]
  },
  {
   "cell_type": "markdown",
   "id": "8c51a6d2",
   "metadata": {},
   "source": [
    "We can now estimate the delocalization energy, converting the energy from eV to kcal mol<sup>-1</sup> when printing it:"
   ]
  },
  {
   "cell_type": "code",
   "execution_count": 56,
   "id": "e53cd4eb",
   "metadata": {},
   "outputs": [
    {
     "name": "stdout",
     "output_type": "stream",
     "text": [
      "Delocalization energy of hexatriene: 18.23 kcal mol^-1\n",
      "Delocalization energy of benzene:    36.90 kcal mol^-1\n"
     ]
    }
   ],
   "source": [
    "E_deloc_hexatriene = 3 * energy_ethylene - energy_hexatriene\n",
    "E_deloc_benzene = 3 * energy_ethylene - energy_benzene\n",
    "\n",
    "print(f'Delocalization energy of hexatriene: {E_deloc_hexatriene * 23.06:.2f} kcal mol^-1')\n",
    "print(f'Delocalization energy of benzene:    {E_deloc_benzene * 23.06:.2f} kcal mol^-1')"
   ]
  },
  {
   "cell_type": "markdown",
   "id": "9a3e311f",
   "metadata": {},
   "source": [
    "Notice the large difference between the delocalization energy in these two systems. The extra stabilization we see in benzene is one of the feature of the concept of **aromaticity**."
   ]
  },
  {
   "cell_type": "markdown",
   "id": "3c304cf4",
   "metadata": {},
   "source": [
    "## Mulliken population analysis 🔍\n",
    "\n",
    "At this point, we are ready to analyze the distribution of electrons in the molecule. We will perform a simple analysis based on the approach developed by Mulliken.\n",
    "\n",
    "To understand how Mulliken's analysis is formulated, we start from the interpretation of the square of the wave function $|\\psi(\\mathbf{r})|^2$ as a probability distribution (here $\\mathbf{r}$ is the vector of $x$, $y$, and $z$ coordinates).\n",
    "This probability distribution is equivalent to the charge density of an electron occupying this orbital.\n",
    "It follows then that the total electron density, $\\rho(\\mathbf{r})$, is the sum of the contribution of each occupied orbital times its occupation number:\n",
    "$$\n",
    "\\rho(\\mathbf{r}) = \\sum_i |\\psi_i(\\mathbf{r})|^2 n_i\n",
    "$$\n",
    "Integrating the total electron density over all space gives us the total number of electrons $N$.\n",
    "$$\n",
    "\\int \\rho(\\mathbf{r}) \\; d\\mathbf{r} = \\sum_i n_i \\int |\\psi_i(\\mathbf{r})|^2  \\; d\\mathbf{r} = N\n",
    "$$\n",
    "\n",
    "How can we use these expressions to obtain the distribution of electrons in our molecule? The basic idea is to partition the density into contributions from atomic orbitals.\n",
    "We first recognize that the last equation can also be written as:\n",
    "$$\n",
    "\\sum_i n_i \\langle \\psi_i|\\psi_i \\rangle  = N\n",
    "$$\n",
    "since, by definition, $\\int |\\psi_i(\\mathbf{r})|^2 \\; d\\mathbf{r} = \\langle \\psi_i|\\psi_i \\rangle$.\n",
    "\n",
    "Next, we will expand the orbitals into the atomic basis:\n",
    "$$\n",
    "|\\psi_i \\rangle = \\sum_\\mu |\\chi_\\mu \\rangle C_{\\mu i}\n",
    "$$\n",
    "from which we can write:\n",
    "$$\n",
    "\\langle \\psi_i|\\psi_i \\rangle = \\sum_\\mu \\sum_\\nu C_{\\mu i}^* \\underbrace{\\langle \\chi_\\mu | \\chi_\\nu \\rangle}_{\\delta_{\\mu \\nu}}  C_{\\nu i}\n",
    "= \\sum_\\mu C_{\\mu i}^* C_{\\mu i}\n",
    "$$\n",
    "Using this result we can express the number of electrons as:\n",
    "$$\n",
    "\\sum_i n_i \\langle \\psi_i|\\psi_i \\rangle  = \\sum_i n_i \\sum_\\mu C_{\\mu i}^* C_{\\mu i} = \\sum_\\mu \\sum_i n_i C_{\\mu i}^* C_{\\mu i} = \\sum_\\mu p_{\\mu}\n",
    "$$\n",
    "where we have introduced the Mulliken population vector $p_{\\mu}$ with elements defined as:\n",
    "$$\n",
    "p_{\\mu} = \\sum_i n_i C_{\\mu i}^* C_{\\mu i}\n",
    "$$\n",
    "We interpret the quantity $p_{\\mu}$ as the number of electrons on the atom on which the 2p<sub>z</sub> orbital is located.\n",
    "Therefore, we can express the number of electrons as a sum of atomic contributions from the Mulliken population.\n",
    "The charge on the corresponding atom ($q_\\mu$) is given by:\n",
    "$$\n",
    "q_\\mu = 1 - p_{\\mu}\n",
    "$$\n",
    "where the 1 is the charge of the C atom with an empty 2p<sub>z</sub> orbital.\n",
    "\n",
    "Note that in the case of Hückel theory, we can use the atomic orbital labels ($\\mu, \\nu, \\cdots$) to denote **both atomic orbitals and atoms** since there is a one-to-one correspondence between atoms and the atomic orbitals that come along with them.\n",
    "This is not the case for extension of Hückel theory that consider more than one orbital per atom and in general for MO theories."
   ]
  },
  {
   "cell_type": "markdown",
   "id": "1b87a9d6",
   "metadata": {},
   "source": [
    "## Coding the Mulliken charges 🧑‍💻\n",
    "\n",
    "In practice, to compute the diagonal part of this matrix, we first square the elements of the coefficient matrix (`C**2`), which computes:\n",
    "$$\n",
    "M_{\\mu i} = (C_{\\mu i})^2\n",
    "$$\n",
    "and then multiply $M_{\\mu i}$ with the occupation number vector $n_i$ with the `np.dot` function to compute:\n",
    "$$\n",
    "\\sum_i M_{\\mu i} n_i = \\sum_i (C_{\\mu i})^2 n_i = p_{\\mu}\n",
    "$$\n",
    "Putting everything together, we can compute the Mulliken population as:\n",
    "```\n",
    "np.dot(self.C**2, self.occupation)\n",
    "```\n",
    "This code will return a **vector** of numbers. To evaluate the charges, we can subtract the Mulliken population vector from the scalar 1.\n",
    "```\n",
    "1 - np.dot(self.C**2, self.occupation)\n",
    "```\n",
    "When we perform this operation, `numpy` will **broadcast** the value one, which means that it will convert it into a vector and correctly evaluate the Mulliken charges.\n",
    "$$\n",
    "1 - (p_1, p_2, \\ldots) \\rightarrow (1, 1, \\ldots) - (p_1, p_2, \\ldots) = (1 - p_1, 1 - p_2, \\ldots) = (q_1, q_2, \\ldots)\n",
    "$$\n",
    "\n",
    "In the code below, we create a new function, `population_analysis`, to compute the Mulliken charges and modify the `run` function to execute it:"
   ]
  },
  {
   "cell_type": "code",
   "execution_count": 57,
   "id": "9d1240bd",
   "metadata": {},
   "outputs": [
    {
     "name": "stdout",
     "output_type": "stream",
     "text": [
      "Running Hückel method on file ethylene.xyz\n",
      "Found 2 carbon atoms\n",
      "Building Hückel Hamiltonian\n",
      "Solving eigenvalue problem\n",
      "Eigenvalues: [-12.2 -10.6] eV\n",
      "Number of electrons: 2\n",
      "Number of doubly occupied states: 1\n",
      "Number of singly occupied states: 0\n",
      "Total energy: -24.400 eV\n",
      "Mulliken charges: [2.22044605e-16 2.22044605e-16]\n"
     ]
    }
   ],
   "source": [
    "def population_analysis(self):\n",
    "    \"\"\"This function computes the Mulliken charges of the molecule.\"\"\"\n",
    "    self.mulliken_charges = 1 - np.dot(self.C**2, self.occupation)\n",
    "    print(f'Mulliken charges: {self.mulliken_charges}')\n",
    "\n",
    "def run(self):\n",
    "    print(f'Running Hückel method on file {self.filename}')\n",
    "\n",
    "    self.atoms = self.read_geometry()\n",
    "    print(f'Found {len(self.atoms)} carbon atoms')\n",
    "\n",
    "    print('Building Hückel Hamiltonian')\n",
    "    self.H = self.build_huckel_hamiltonian()\n",
    "\n",
    "    print('Solving eigenvalue problem')\n",
    "    self.solve_eigenvalues(self.H)\n",
    "\n",
    "    self.compute_occupation()\n",
    "\n",
    "    self.compute_energy()\n",
    "\n",
    "    self.population_analysis() # <- call the population analysis method after computing the energy\n",
    "    \n",
    "# add/replace methods in the Huckel class\n",
    "Huckel.run = run\n",
    "Huckel.population_analysis = population_analysis\n",
    "\n",
    "huckel = Huckel(filename='ethylene.xyz', charge=0)\n",
    "huckel.run()"
   ]
  },
  {
   "cell_type": "markdown",
   "id": "34e36d84",
   "metadata": {},
   "source": [
    "## Example: The charge distribution in azulene 🧪\n",
    "\n",
    "Let's apply this updated code to compute the charges in the azulene molecule. In this example we will use the following numbering scheme to label the atomic orbitals:\n",
    "\n",
    "<center><img src=\"img/azulene_numbering.png\" width=\"300px\" /></center>"
   ]
  },
  {
   "cell_type": "code",
   "execution_count": 58,
   "id": "16dedc85",
   "metadata": {},
   "outputs": [
    {
     "name": "stdout",
     "output_type": "stream",
     "text": [
      "Running Hückel method on file azulene.xyz\n",
      "Found 10 carbon atoms\n",
      "Building Hückel Hamiltonian\n",
      "Solving eigenvalue problem\n",
      "Eigenvalues: [-13.24822148 -12.72125785 -12.48453944 -12.10958019 -11.781808\n",
      " -11.07968614 -10.80988776 -10.13662552  -9.90462882  -9.72376481] eV\n",
      "Number of electrons: 10\n",
      "Number of doubly occupied states: 5\n",
      "Number of singly occupied states: 0\n",
      "Total energy: -124.691 eV\n",
      "Mulliken charges: [ 0.14505434  0.01355315  0.12999862  0.01355315  0.14505434 -0.0274276\n",
      " -0.0274276  -0.17287934 -0.04659971 -0.17287934]\n"
     ]
    }
   ],
   "source": [
    "azulene = Huckel(filename='azulene.xyz', charge=0)\n",
    "azulene.run()"
   ]
  },
  {
   "cell_type": "markdown",
   "id": "727811c1",
   "metadata": {},
   "source": [
    "Since we have stored the charges as a vector in the member variable `mulliken_charges` we can plot it with the `plot` function."
   ]
  },
  {
   "cell_type": "code",
   "execution_count": 59,
   "id": "2c670f87",
   "metadata": {},
   "outputs": [
    {
     "data": {
      "image/png": "[encoded data removed]",
      "text/plain": [
       "<Figure size 600x300 with 1 Axes>"
      ]
     },
     "metadata": {
      "image/png": {
       "height": 265,
       "width": 310
      }
     },
     "output_type": "display_data"
    }
   ],
   "source": [
    "azulene.plot(azulene.mulliken_charges, label='Mulliken charges',size=3)"
   ]
  },
  {
   "cell_type": "markdown",
   "id": "72ec9d9f",
   "metadata": {},
   "source": [
    "This figure shows that the C atoms 1, 3, and 5 carry small positive charges (yellow), while atoms 8 and 10 carry small negative charges (blue). We can estimate the charge on each ring by adding the atomic charges and splitting the charges on atoms 6 and 7 (shared by the two rings) equally among the two atoms.\n",
    "\n",
    "When we do this, as shown below, we find that the 7-member ring is positively charged (+0.42) while the 5-member right is negatively charged (-0.42).\n",
    "This is an example of a nontrivial prediction by Hückel's theory that can be confirmed experimentally."
   ]
  },
  {
   "cell_type": "code",
   "execution_count": 61,
   "id": "63109562",
   "metadata": {},
   "outputs": [
    {
     "name": "stdout",
     "output_type": "stream",
     "text": [
      "Charge on 7-membered ring: 0.420\n",
      "Charge on 5-membered ring: -0.420\n"
     ]
    }
   ],
   "source": [
    "charge_on_7_ring = sum(azulene.mulliken_charges[0:5]) + 0.5 * sum(azulene.mulliken_charges[5:7])\n",
    "charge_on_5_ring = sum(azulene.mulliken_charges[7:10]) + 0.5 * sum(azulene.mulliken_charges[5:7])\n",
    "print(f'Charge on 7-membered ring: {charge_on_7_ring:.3f}')\n",
    "print(f'Charge on 5-membered ring: {charge_on_5_ring:.3f}')"
   ]
  },
  {
   "cell_type": "markdown",
   "id": "8088e653",
   "metadata": {},
   "source": [
    "## Spin density and π bond order 🏋️\n",
    "\n",
    "Our last task will be to extend the orbital population analysis to compute the spin density and the bond order.\n",
    "To evaluate these quantities, we will introduce the spin up and down density matrices, defined as:\n",
    "$$\n",
    "P^\\uparrow_{\\mu \\nu} = \\sum_{i} C_{\\mu i} n_i^\\uparrow C_{\\nu i}\n",
    "$$\n",
    "$$\n",
    "P^\\downarrow_{\\mu \\nu} = \\sum_{i} C_{\\mu i} n_i^\\downarrow C_{\\nu i}\n",
    "$$\n",
    "where $n_i^\\uparrow$ and $n_i^\\downarrow$ are the number of spin up and down electrons in the i-$th$ orbital.\n",
    "The sum of the spin up and spin down occupation numbers is the orbital occupation number:\n",
    "$$\n",
    "n_i^\\uparrow + n_i^\\downarrow = n_i\n",
    "$$\n",
    "Note that **in the literature** these are also called the $\\alpha$ and $\\beta$ spin densities.\n",
    "\n",
    "Why did we introduce these new quantities? It is easy to show that the Mulliken population charges are the diagonal elements of the sum of the $P^\\uparrow_{\\mu \\nu}$ and $P^\\downarrow_{\\mu \\nu}$ matrices.\n",
    "Here is the derivation:\n",
    "$$\n",
    "\\begin{split}\n",
    "P^\\uparrow_{\\mu \\mu} + P^\\downarrow_{\\mu \\mu}\n",
    "& = \\sum_{i} C_{\\mu i} n_i^\\uparrow C_{\\mu i} + \\sum_{i} C_{\\mu i} n_i^\\downarrow C_{\\mu i} \\\\\n",
    "& = \\sum_{i} C_{\\mu i} (n_i^\\uparrow + n_i^\\downarrow) C_{\\mu i} \\\\\n",
    "& = \\sum_{i} C_{\\mu i} n_i C_{\\mu i} \\\\\n",
    "& = p_\\mu\n",
    "\\end{split}\n",
    "$$\n",
    "\n",
    "To quantify the excess of up or down spin in the molecule (spin polarization), we can evaluate a quantity analogous to the charge, the spin density ($p^\\mathrm{s}_{\\mu}$).\n",
    "We define the spin density matrix as the difference between the spin up and spin down densities:\n",
    "$$\n",
    "P^\\mathrm{s}_{\\mu \\nu} = P^\\uparrow_{\\mu \\nu} - P^\\downarrow_{\\mu \\nu}\n",
    "$$\n",
    "The spin density on each atom is given by the diagonal element of the spin density matrix:\n",
    "$$\n",
    "p^\\mathrm{s}_{\\mu} = P^\\mathrm{s}_{\\mu \\mu}\n",
    "$$\n",
    "\n",
    "From the spin up and down density matrices, we can compute an estimate of the bond order due to the π electrons between atoms $\\mu$ and $\\nu$:\n",
    "$$\n",
    "B^{\\pi}_{\\mu \\nu} = 2 ( |P^\\uparrow_{\\mu \\nu}|^2 + |P^\\downarrow_{\\mu \\nu}|^2)\n",
    "$$\n",
    "\n",
    "This shows that we can perform a full Mulliken analysis by first computing $P^\\uparrow_{\\mu \\nu}$ and $P^\\downarrow_{\\mu \\nu}$ and then combining them to obtain the charge and spin distribution and the bond order."
   ]
  },
  {
   "cell_type": "markdown",
   "id": "204d377e",
   "metadata": {},
   "source": [
    "## Coding spin density and bond order 🧑‍💻\n",
    "\n",
    "In the following code, we modify the `population_analysis` function to find Mulliken charges, spin density, and bond order:"
   ]
  },
  {
   "cell_type": "code",
   "execution_count": 63,
   "id": "b23f77b4",
   "metadata": {},
   "outputs": [],
   "source": [
    "def population_analysis(self):\n",
    "    \"\"\"This function performs a population analysis of the molecule.\"\"\"\n",
    "    # find the spin up and spin down occupation numbers. Singly occupied states are counted as spin up.\n",
    "    spin_up_occupation = [1 if x == 1 or x == 2 else 0  for x in self.occupation]\n",
    "    spin_down_occupation = [1 if x == 2 else 0  for x in self.occupation]\n",
    "\n",
    "    # compute the density matrices\n",
    "    self.density_up = self.C @ np.diag(spin_up_occupation) @ self.C.T\n",
    "    self.density_down = self.C @ np.diag(spin_down_occupation) @ self.C.T\n",
    "\n",
    "    # compute the Mulliken charges and spin density\n",
    "    self.mulliken_charges = 1 - np.diag(self.density_up + self.density_down)\n",
    "    self.spin_density = np.diag(self.density_up - self.density_down)\n",
    "\n",
    "    print(f'\\nMulliken charges')\n",
    "    print('Atom   Charge     Spin')\n",
    "    for i in range(len(self.atoms)):\n",
    "        print(f'{i + 1:3} {self.mulliken_charges[i]:+9.3f} {self.spin_density[i]:+9.3f}')\n",
    "\n",
    "    # compute the bond order matrix\n",
    "    self.B = 2 * (self.density_up ** 2 + self.density_down ** 2)\n",
    "    print('\\nπ Bond order')\n",
    "    print('Atom pair  Bond order')\n",
    "    for i in range(len(self.atoms)):\n",
    "        for j in range(i + 1, len(self.atoms)):\n",
    "            if i != j:\n",
    "                print(f'{i+ 1:3} {j + 1:3}       {self.B[i, j]:.3f}')\n",
    "\n",
    "def run(self):\n",
    "    print(f'Running Hückel method on file {self.filename}')\n",
    "\n",
    "    self.atoms = self.read_geometry()\n",
    "    print(f'Found {len(self.atoms)} carbon atoms')\n",
    "\n",
    "    print('Building Hückel Hamiltonian')\n",
    "    self.H = self.build_huckel_hamiltonian()\n",
    "\n",
    "    print('Solving eigenvalue problem')\n",
    "    self.solve_eigenvalues(self.H)\n",
    "\n",
    "    self.compute_occupation()\n",
    "\n",
    "    self.compute_energy()\n",
    "\n",
    "    self.population_analysis()\n",
    "    \n",
    "Huckel.run = run\n",
    "Huckel.population_analysis = population_analysis"
   ]
  },
  {
   "cell_type": "markdown",
   "id": "02b1866b",
   "metadata": {},
   "source": [
    "Let's apply this new code to compute the bond order in butadiene:"
   ]
  },
  {
   "cell_type": "code",
   "execution_count": 64,
   "id": "51cd64c2",
   "metadata": {},
   "outputs": [
    {
     "name": "stdout",
     "output_type": "stream",
     "text": [
      "Running Hückel method on file butadiene.xyz\n",
      "Found 4 carbon atoms\n",
      "Building Hückel Hamiltonian\n",
      "Solving eigenvalue problem\n",
      "Eigenvalues: [-12.69442719 -11.89442719 -10.90557281 -10.10557281] eV\n",
      "Number of electrons: 4\n",
      "Number of doubly occupied states: 2\n",
      "Number of singly occupied states: 0\n",
      "Total energy: -49.178 eV\n",
      "\n",
      "Mulliken charges\n",
      "Atom   Charge     Spin\n",
      "  1    -0.000    +0.000\n",
      "  2    -0.000    +0.000\n",
      "  3    -0.000    +0.000\n",
      "  4    +0.000    +0.000\n",
      "\n",
      "π Bond order\n",
      "Atom pair  Bond order\n",
      "  1   2       0.800\n",
      "  1   3       0.000\n",
      "  1   4       0.200\n",
      "  2   3       0.200\n",
      "  2   4       0.000\n",
      "  3   4       0.800\n"
     ]
    }
   ],
   "source": [
    "huckel = Huckel(filename='butadiene.xyz', charge=0)\n",
    "huckel.run()"
   ]
  },
  {
   "cell_type": "markdown",
   "id": "4fcbd3c8",
   "metadata": {},
   "source": [
    "In this case, all carbon atoms have the same charge and spin (zero). The bond order analysis indicates a 0.8 π bond order between carbon atoms 1 and 2 and a smaller (0.2) π bond order between atoms 1 and 4.\n",
    "One interesting aspect of the Hückel theory prediction is a partial double bond between atoms 2 and 3. This implies that the bond among these two atoms is not simply of σ type and that rotations of groups connected to these two atoms must be somewhat hindered.\n",
    "\n",
    "Next, let's consider the butadiene cation and analyze the electron distribution"
   ]
  },
  {
   "cell_type": "code",
   "execution_count": 65,
   "id": "2f16481b",
   "metadata": {},
   "outputs": [
    {
     "name": "stdout",
     "output_type": "stream",
     "text": [
      "Running Hückel method on file butadiene.xyz\n",
      "Found 4 carbon atoms\n",
      "Building Hückel Hamiltonian\n",
      "Solving eigenvalue problem\n",
      "Eigenvalues: [-12.69442719 -11.89442719 -10.90557281 -10.10557281] eV\n",
      "Number of electrons: 3\n",
      "Number of doubly occupied states: 1\n",
      "Number of singly occupied states: 1\n",
      "Total energy: -37.283 eV\n",
      "\n",
      "Mulliken charges\n",
      "Atom   Charge     Spin\n",
      "  1    +0.362    +0.362\n",
      "  2    +0.138    +0.138\n",
      "  3    +0.138    +0.138\n",
      "  4    +0.362    +0.362\n",
      "\n",
      "π Bond order\n",
      "Atom pair  Bond order\n",
      "  1   2       0.500\n",
      "  1   3       0.100\n",
      "  1   4       0.138\n",
      "  2   3       0.362\n",
      "  2   4       0.100\n",
      "  3   4       0.500\n"
     ]
    }
   ],
   "source": [
    "huckel = Huckel(filename='butadiene.xyz', charge=1)\n",
    "huckel.run()"
   ]
  },
  {
   "cell_type": "markdown",
   "id": "94d05285",
   "metadata": {},
   "source": [
    "In the cation, most of the positive charge is found on the terminal atoms (1 and 4).\n",
    "Hückel theory also predicts a higher π bond order between atoms 2 and 3, increasing from 0.2 (neutral) to 0.362 (cation)."
   ]
  },
  {
   "cell_type": "markdown",
   "id": "755b1f8e",
   "metadata": {},
   "source": [
    "This example concludes this tutorial. I hope you learned something useful from it, and I look forward to seeing you for the next one!\n",
    "\n",
    "## The final Python code\n",
    "\n",
    "Here is the complete definition of the Huckel class with all the additions we made in this tutorial. This class is also defined in the `huckel.py` file included with this tutorial."
   ]
  },
  {
   "cell_type": "code",
   "execution_count": 18,
   "id": "89c258e4",
   "metadata": {},
   "outputs": [],
   "source": [
    "import numpy as np\n",
    "import scipy\n",
    "import matplotlib.pyplot as plt\n",
    "\n",
    "class Huckel:\n",
    "    def __init__(self, filename, charge, r_cutoff=1.5, alpha=-11.4, beta=-0.8):\n",
    "        self.filename = filename\n",
    "        self.charge = charge\n",
    "        self.r_cutoff = r_cutoff\n",
    "        self.alpha = alpha\n",
    "        self.beta = beta\n",
    "\n",
    "    def run(self):\n",
    "        print(f'Running Hückel method on file {self.filename}')\n",
    "\n",
    "        self.atoms = self.read_geometry()\n",
    "        print(f'Found {len(self.atoms)} carbon atoms')\n",
    "\n",
    "        print('Building Hückel Hamiltonian')\n",
    "        self.H = self.build_huckel_hamiltonian()\n",
    "\n",
    "        print('Solving eigenvalue problem')\n",
    "        self.solve_eigenvalues(self.H)\n",
    "\n",
    "        self.compute_occupation()\n",
    "\n",
    "        self.compute_energy()\n",
    "\n",
    "        self.population_analysis()\n",
    "\n",
    "    def read_geometry(self):\n",
    "        \"\"\"This function reads the geometry of a molecule from an XYZ file\n",
    "        and stores the atom symbol and coordinates of the carbon atoms in a list of tuples.\n",
    "        \"\"\"\n",
    "        atoms = []\n",
    "        with open(self.filename, \"r\") as f:\n",
    "            lines = f.readlines() # read all lines into a list\n",
    "            for line in lines[2:]: # skip the first two lines\n",
    "                parts = line.split() # split the line into parts\n",
    "                symbol = parts[0]\n",
    "                if symbol == \"C\": # only keep carbon atoms\n",
    "                    xyz = np.array([float(x) for x in parts[1:4]])\n",
    "                    atoms.append((symbol, xyz))\n",
    "        return atoms\n",
    "\n",
    "    def build_huckel_hamiltonian(self):\n",
    "        \"\"\"This function builds the Hückel Hamiltonian matrix given a list of atoms.\"\"\"\n",
    "        N = len(self.atoms) # find the number of atoms from the length of the atoms list\n",
    "        H = np.zeros((N, N))\n",
    "        np.fill_diagonal(H, self.alpha)\n",
    "        for i in range(N):\n",
    "            # only loop over half of the pairs, excluding the diagonal\n",
    "            for j in range(i + 1, N):\n",
    "                r_i = self.atoms[i][1]\n",
    "                r_j = self.atoms[j][1]\n",
    "                distance = np.linalg.norm(r_i - r_j)\n",
    "                if distance < self.r_cutoff:\n",
    "                    H[i, j] = H[j, i] = self.beta\n",
    "        return H\n",
    "\n",
    "    def solve_eigenvalues(self, H):\n",
    "        \"\"\"This function solves the eigenvalue problem H C = ε C.\"\"\"\n",
    "        self.ε, self.C = np.linalg.eigh(H)\n",
    "        print(f'Eigenvalues: {self.ε} eV')\n",
    "\n",
    "    def compute_occupation(self):\n",
    "        \"\"\"This function finds the occupation of the molecular orbitals.\"\"\"\n",
    "        \n",
    "        self.nel = len(self.ε) - self.charge\n",
    "        print(f'Number of electrons: {self.nel}')\n",
    "\n",
    "        # find the occupied states\n",
    "        ndocc = self.nel // 2\n",
    "        nsocc = self.nel % 2\n",
    "        print(f'Number of doubly occupied states: {ndocc}')\n",
    "        print(f'Number of singly occupied states: {nsocc}')\n",
    "        self.occupation = np.zeros_like(self.ε)\n",
    "        self.occupation[:ndocc] = 2\n",
    "        if nsocc:\n",
    "            self.occupation[ndocc] = 1\n",
    "\n",
    "    def compute_energy(self):\n",
    "        \"\"\"This function computes the energy of the molecule.\"\"\"\n",
    "        self.energy = np.dot(self.ε, self.occupation)\n",
    "        print(f'Total energy: {self.energy:.3f} eV')\n",
    "\n",
    "\n",
    "    def population_analysis(self):\n",
    "        \"\"\"This function performs a population analysis of the molecule.\"\"\"\n",
    "        # find the spin up and spin down occupation numbers. Singly occupied states are counted as spin up.\n",
    "        spin_up_occupation = [1 if x == 1 or x == 2 else 0  for x in self.occupation]\n",
    "        spin_down_occupation = [1 if x == 2 else 0  for x in self.occupation]\n",
    "\n",
    "        # compute the density matrices\n",
    "        self.density_up = self.C @ np.diag(spin_up_occupation) @ self.C.T\n",
    "        self.density_down = self.C @ np.diag(spin_down_occupation) @ self.C.T\n",
    "\n",
    "        # compute the Mulliken charges and spin density\n",
    "        self.mulliken_charges = 1 - np.diag(self.density_up + self.density_down)\n",
    "        self.spin_density = np.diag(self.density_up - self.density_down)\n",
    "\n",
    "        print(f'\\nMulliken charges')\n",
    "        print('Atom   Charge     Spin')\n",
    "        for i in range(len(self.atoms)):\n",
    "            print(f'{i + 1:3} {self.mulliken_charges[i]:+9.3f} {self.spin_density[i]:+9.3f}')\n",
    "\n",
    "        # compute the bond order matrix\n",
    "        self.B = 2 * (self.density_up ** 2 + self.density_down ** 2)\n",
    "        print('\\nπ Bond order')\n",
    "        print('Atom pair  Bond order')\n",
    "        for i in range(len(self.atoms)):\n",
    "            for j in range(i + 1, len(self.atoms)):\n",
    "                if i != j:\n",
    "                    print(f'{i+ 1:3} {j + 1:3}       {self.B[i, j]:.3f}')\n",
    "     \n",
    "    def plot(self, coefficients, label=None, size=4):\n",
    "        \"\"\"\n",
    "        A function to plot molecular orbitals with given coordinates and coefficients.\n",
    "        The probability of finding an electron is proportional to the area of the circles.\n",
    "        \"\"\"\n",
    "        coordinates = [(atom[1][0], atom[1][1]) for atom in self.atoms]  # Extract coordinates\n",
    "\n",
    "        # Ensure coefficients is 2D (matrix-like) so we can plot single or multiple orbitals\n",
    "        if np.ndim(coefficients) == 1:\n",
    "            coefficients = coefficients[:, np.newaxis]\n",
    "\n",
    "        num_plots = coefficients.shape[1]  # Number of columns determines the number of plots\n",
    "\n",
    "        # Compute the grid size to organize plots (e.g., 3x2 for 6 plots)\n",
    "        n_cols = 2 # 1 #3 #int(np.ceil(np.sqrt(num_plots)))  # Columns in the grid\n",
    "        n_rows = int(np.ceil(num_plots / n_cols))  # Rows in the grid\n",
    "\n",
    "        # Create a grid of subplots\n",
    "        fig, axes = plt.subplots(n_rows, n_cols, figsize=(size * n_cols, size * n_rows))\n",
    "        axes = np.ravel(axes)  # Flatten the axes array for easy iteration\n",
    "\n",
    "        # Plot each column of coefficients in its own subplot\n",
    "        for i in range(num_plots):\n",
    "            ax = axes[i]\n",
    "            ax.set_aspect('equal', 'box')\n",
    "\n",
    "            # Set plot limits with padding\n",
    "            x_vals, y_vals = zip(*coordinates)\n",
    "            ax.set_xlim(min(x_vals) - 1, max(x_vals) + 1)\n",
    "            ax.set_ylim(min(y_vals) - 1, max(y_vals) + 1)\n",
    "\n",
    "            # Plot molecular orbitals and atoms\n",
    "            for (x, y), c in zip(coordinates, coefficients[:, i]):\n",
    "                radius = np.abs(c) * 0.9\n",
    "                color = 'orange' if c > 0 else 'blue'\n",
    "                mo = plt.Circle((x, y), radius, color=color, alpha=0.5)\n",
    "                ax.add_patch(mo)\n",
    "                atom = plt.Circle((x, y), 0.05, color='black')\n",
    "                ax.add_patch(atom)\n",
    "\n",
    "            # Set smaller font size for axes labels\n",
    "            ax.tick_params(axis='both', which='major', labelsize=8)\n",
    "            if label:\n",
    "                if num_plots > 1:\n",
    "                    ax.set_title(f\"{label} - {i+1}\", fontsize=8)\n",
    "                else:\n",
    "                    ax.set_title(f\"{label}\", fontsize=8)\n",
    "\n",
    "        # Hide any unused subplots if num_plots < n_rows * n_cols\n",
    "        for j in range(num_plots, n_rows * n_cols):\n",
    "            fig.delaxes(axes[j])\n",
    "\n",
    "        # Adjust layout to avoid overlaps\n",
    "        plt.tight_layout()\n",
    "        plt.show()"
   ]
  }
 ],
 "metadata": {
  "kernelspec": {
   "display_name": "Python 3",
   "language": "python",
   "name": "python3"
  },
  "language_info": {
   "codemirror_mode": {
    "name": "ipython",
    "version": 3
   },
   "file_extension": ".py",
   "mimetype": "text/x-python",
   "name": "python",
   "nbconvert_exporter": "python",
   "pygments_lexer": "ipython3",
   "version": "3.10.12"
  }
 },
 "nbformat": 4,
 "nbformat_minor": 5
}
